{
 "cells": [
  {
   "cell_type": "code",
   "execution_count": 5,
   "metadata": {},
   "outputs": [],
   "source": [
    "## advance 1\n",
    "import random\n",
    "\n",
    "## User guesses the number\n",
    "## it takes input from user for guessing number and it continues to take input until it's exact\n",
    "def guessNo(inputNumber,randomNo,trail):\n",
    "    inputNumber = int(inputNumber)\n",
    "    \n",
    "   \n",
    "    if(inputNumber == randomNo):\n",
    "        randomNo = random.randint(1,201)\n",
    "        return print('Bingo !!!' )\n",
    "    \n",
    "    elif inputNumber in range(randomNo + 1 , randomNo + 10):\n",
    "        print('nearby but lower your guess')\n",
    "        if(trail >= 2):\n",
    "            hints(randomNo,inputNumber)\n",
    "        trail = trail + 1\n",
    "        guessNo(input('guess again '),randomNo,trail)\n",
    "        \n",
    "    \n",
    "    elif inputNumber in range(randomNo - 1 , randomNo - 10):\n",
    "        print('up a bit')\n",
    "        if(trail >= 2):\n",
    "            hints(randomNo,inputNumber)\n",
    "        trail = trail + 1\n",
    "        guessNo(input('guess again '),randomNo,trail)\n",
    "        \n",
    "    \n",
    "    elif(inputNumber > randomNo):\n",
    "        print('too far lower your guess' )\n",
    "        if(trail >= 2):\n",
    "            hints(randomNo,inputNumber)\n",
    "        trail = trail + 1\n",
    "        guessNo(input('guess again '),randomNo,trail)\n",
    "    \n",
    "    elif(inputNumber < randomNo):\n",
    "        print('too far up your guess' )\n",
    "        if(trail >= 2):\n",
    "            hints(randomNo,inputNumber)\n",
    "        trail = trail + 1\n",
    "        guessNo(input('guess again '),randomNo,trail)\n",
    "    \n",
    "    else:\n",
    "        return print('there is an error with program the computer number is '+ str(randomNo))\n"
   ]
  },
  {
   "cell_type": "code",
   "execution_count": 2,
   "metadata": {},
   "outputs": [],
   "source": [
    "## advance 2\n",
    "## Program where computer guesses the number\n",
    "\n",
    "def computer_guess(num):\n",
    "    low = 1\n",
    "    high = 200\n",
    "    # This will make the computer's first guess random\n",
    "    guess = random.randint(1,201)\n",
    "    while guess != num:\n",
    "        print(\"The computer takes a guess...\", guess)\n",
    "        if guess > num:\n",
    "            high = guess\n",
    "        elif guess < num:\n",
    "            low = guess + 1\n",
    "        # having the next guess be after the elif statement\n",
    "        # will allow for the random guess to take place\n",
    "        # instead of the first guess being 50 each time\n",
    "        # or whatever the outcome of your low+high division\n",
    "        guess = (low+high)//2    \n",
    "\n",
    "    print(\"The computer guessed\", guess, \"and it was correct!\")\n"
   ]
  },
  {
   "cell_type": "code",
   "execution_count": 3,
   "metadata": {},
   "outputs": [],
   "source": [
    "## advance 3\n",
    "## guess with hints\n",
    "\n",
    "\n",
    "def hints(randomNo,inputNo):\n",
    "    i = random.randint(1,4)\n",
    "    j = random.randint(1,4)\n",
    "    if(randomNo % 2 == 0):\n",
    "        if(i == 0):\n",
    "            i += 1\n",
    "            return print('HINT: the number is even')\n",
    "           \n",
    "        elif(i == 1):\n",
    "            i += 1\n",
    "            return print('HINT: the number is divisible by 2')\n",
    "            \n",
    "        elif(i == 2):\n",
    "            i = 0\n",
    "            diff = randomNo - inputNo\n",
    "            return print('HINT: the difference between your last guess and number ' + str(diff))\n",
    "          \n",
    "    else:\n",
    "        if(j == 0):\n",
    "            j += 1\n",
    "            return print('HINT: the number is even')\n",
    "            \n",
    "        elif(j == 1):\n",
    "            j += 1\n",
    "            return print('HINT: the number is divisible by 2')\n",
    "            \n",
    "        elif(j == 2):\n",
    "            j = 0\n",
    "            diff = randomNo - inputNo\n",
    "            return print('HINT: the difference between your last guess and number ' + str(diff))\n",
    "           "
   ]
  },
  {
   "cell_type": "code",
   "execution_count": null,
   "metadata": {},
   "outputs": [],
   "source": [
    "## global variable required\n",
    "## this was used before hints\n",
    "trail = 0\n",
    "randomNo = random.randint(1,201)\n",
    "word = input('enter a number between range of 0 to 200 ')\n",
    "guessNo(word,randomNo,trail)"
   ]
  },
  {
   "cell_type": "code",
   "execution_count": 6,
   "metadata": {},
   "outputs": [
    {
     "name": "stdout",
     "output_type": "stream",
     "text": [
      "Enter a number: 23\n",
      "The computer takes a guess... 102\n",
      "The computer takes a guess... 51\n",
      "The computer takes a guess... 26\n",
      "The computer takes a guess... 13\n",
      "The computer takes a guess... 20\n",
      "The computer guessed 23 and it was correct!\n"
     ]
    }
   ],
   "source": [
    "## computer guess call\n",
    "\n",
    "num = int(input(\"Enter a number: \"))\n",
    "if num < 1 or num > 201:\n",
    "    print(\"Must be in range [1, 200]\")\n",
    "else:\n",
    "    computer_guess(num)"
   ]
  },
  {
   "cell_type": "code",
   "execution_count": null,
   "metadata": {},
   "outputs": [
    {
     "name": "stdout",
     "output_type": "stream",
     "text": [
      "enter a number between range of 0 to 200 32\n",
      "too far up your guess\n",
      "guess again 32\n",
      "too far up your guess\n",
      "guess again 32\n",
      "too far up your guess\n",
      "HINT: the difference between your last guess and number 71\n",
      "guess again 32\n",
      "too far up your guess\n",
      "guess again 23\n",
      "too far up your guess\n",
      "guess again 32\n",
      "too far up your guess\n",
      "HINT: the number is divisible by 2\n"
     ]
    }
   ],
   "source": [
    "trail = 0\n",
    "randomNo = random.randint(1,201)\n",
    "word = input('enter a number between range of 0 to 200 ')\n",
    "guessNo(word,randomNo,trail)"
   ]
  }
 ],
 "metadata": {
  "kernelspec": {
   "display_name": "Python 3",
   "language": "python",
   "name": "python3"
  },
  "language_info": {
   "codemirror_mode": {
    "name": "ipython",
    "version": 3
   },
   "file_extension": ".py",
   "mimetype": "text/x-python",
   "name": "python",
   "nbconvert_exporter": "python",
   "pygments_lexer": "ipython3",
   "version": "3.7.3"
  }
 },
 "nbformat": 4,
 "nbformat_minor": 2
}
