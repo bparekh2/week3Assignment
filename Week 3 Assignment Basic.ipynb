{
 "cells": [
  {
   "cell_type": "code",
   "execution_count": 1,
   "metadata": {},
   "outputs": [
    {
     "name": "stdout",
     "output_type": "stream",
     "text": [
      "['a', 'b', 'c', 'd', 'e', 'f']\n"
     ]
    }
   ],
   "source": [
    "## Basic 1\n",
    "def uniqueItemsList(givenList):\n",
    "    newList = list(dict.fromkeys(givenList))\n",
    "    return newList\n",
    "\n",
    "aList = ['a','b','c','c','d','e','e','f']\n",
    "uniqueList = uniqueItemsList(aList)\n",
    "print(uniqueList)"
   ]
  },
  {
   "cell_type": "code",
   "execution_count": 10,
   "metadata": {},
   "outputs": [
    {
     "name": "stdout",
     "output_type": "stream",
     "text": [
      "give a number 5\n",
      "False\n"
     ]
    }
   ],
   "source": [
    "## Basic 2\n",
    "## function finding a number in given list \n",
    "def findInList(number,aList):\n",
    "    try:\n",
    "        find = a.index(number)\n",
    "        return True\n",
    "    except ValueError:\n",
    "        return False\n",
    "\n",
    "number = input(\"give a number \")\n",
    "a = ['1', '4', '9', '16', '25', '36', '49', '64', '81', '100']\n",
    "print(findInList(number,a))"
   ]
  },
  {
   "cell_type": "code",
   "execution_count": 6,
   "metadata": {},
   "outputs": [
    {
     "name": "stdout",
     "output_type": "stream",
     "text": [
      "[4, 16, 36, 64, 100]\n"
     ]
    }
   ],
   "source": [
    "def evenList(a):\n",
    "    b = [i for i in a if i % 2 == 0]\n",
    "    return b\n",
    "\n",
    "a = [1, 4, 9, 16, 25, 36, 49, 64, 81, 100]\n",
    "print(evenList(a))\n"
   ]
  }
 ],
 "metadata": {
  "kernelspec": {
   "display_name": "Python 3",
   "language": "python",
   "name": "python3"
  },
  "language_info": {
   "codemirror_mode": {
    "name": "ipython",
    "version": 3
   },
   "file_extension": ".py",
   "mimetype": "text/x-python",
   "name": "python",
   "nbconvert_exporter": "python",
   "pygments_lexer": "ipython3",
   "version": "3.7.3"
  }
 },
 "nbformat": 4,
 "nbformat_minor": 2
}
